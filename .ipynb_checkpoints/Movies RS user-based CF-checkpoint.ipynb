{
 "cells": [
  {
   "cell_type": "code",
   "execution_count": 1,
   "metadata": {},
   "outputs": [],
   "source": [
    "import pandas as pd\n",
    "import numpy as np\n",
    "from surprise import SVD\n",
    "from sklearn.metricsimport accuracy_scorefrom surprise.model_selection import train_test_split\n",
    "from surprise import KNNBasic,  KNNWithMeans, KNNBaseline,KNNWithZScore\n",
    "from surprise.model_selection import KFold\n",
    "from surprise import SlopeOne, CoClustering\n",
    "from surprise import SVD, SVDpp, NMF\n",
    "from surprise import Reader\n",
    "from surprise import NormalPredictor\n",
    "from surprise.model_selection import cross_validate\n",
    "import matplotlib.pyplot as plt\n",
    "import seaborn as sns\n",
    "from surprise.model_selection import GridSearchCV\n",
    "import matplotlib.pyplot as plt\n",
    "%matplotlib inline"
   ]
  },
  {
   "cell_type": "code",
   "execution_count": 2,
   "metadata": {},
   "outputs": [],
   "source": [
    "import pandas as pd\n",
    "import numpy as np\n",
    "from surprise import SVD\n",
    "from surprise import Dataset\n",
    "from surprise import accuracy\n",
    "from surprise.model_selection import train_test_split\n",
    "from surprise import KNNBasic,  KNNWithMeans, KNNBaseline,KNNWithZScore\n",
    "from surprise.model_selection import KFold\n",
    "from surprise import SlopeOne, CoClustering\n",
    "from surprise import SVD, SVDpp, NMF\n",
    "from surprise import Reader\n",
    "from surprise import NormalPredictor\n",
    "from surprise.model_selection import cross_validate\n",
    "import matplotlib.pyplot as plt\n",
    "import seaborn as sns\n",
    "from surprise.model_selection import GridSearchCV\n",
    "import matplotlib.pyplot as plt\n",
    "%matplotlib inline"
   ]
  },
  {
   "cell_type": "code",
   "execution_count": 3,
   "metadata": {
    "scrolled": true
   },
   "outputs": [
    {
     "data": {
      "text/html": [
       "<div>\n",
       "<style scoped>\n",
       "    .dataframe tbody tr th:only-of-type {\n",
       "        vertical-align: middle;\n",
       "    }\n",
       "\n",
       "    .dataframe tbody tr th {\n",
       "        vertical-align: top;\n",
       "    }\n",
       "\n",
       "    .dataframe thead th {\n",
       "        text-align: right;\n",
       "    }\n",
       "</style>\n",
       "<table border=\"1\" class=\"dataframe\">\n",
       "  <thead>\n",
       "    <tr style=\"text-align: right;\">\n",
       "      <th></th>\n",
       "      <th>Unnamed: 0</th>\n",
       "      <th>User</th>\n",
       "      <th>The Net</th>\n",
       "      <th>Happily N'Ever After</th>\n",
       "      <th>Tomorrowland</th>\n",
       "      <th>American Hero</th>\n",
       "      <th>Das Boot</th>\n",
       "      <th>Final Destination 3</th>\n",
       "      <th>Licence to Kill</th>\n",
       "      <th>The Hundred-Foot Journey</th>\n",
       "      <th>...</th>\n",
       "      <th>The Martian</th>\n",
       "      <th>Micmacs</th>\n",
       "      <th>Solomon and Sheba</th>\n",
       "      <th>In the Company of Men</th>\n",
       "      <th>Silent House</th>\n",
       "      <th>Big Fish</th>\n",
       "      <th>Get Real</th>\n",
       "      <th>Trading Places</th>\n",
       "      <th>DOA: Dead or Alive</th>\n",
       "      <th>Hey Arnold! The Movie</th>\n",
       "    </tr>\n",
       "  </thead>\n",
       "  <tbody>\n",
       "    <tr>\n",
       "      <th>0</th>\n",
       "      <td>0</td>\n",
       "      <td>Vincent</td>\n",
       "      <td>0.0</td>\n",
       "      <td>0.0</td>\n",
       "      <td>0.0</td>\n",
       "      <td>0.0</td>\n",
       "      <td>0.0</td>\n",
       "      <td>0.0</td>\n",
       "      <td>0.0</td>\n",
       "      <td>0.0</td>\n",
       "      <td>...</td>\n",
       "      <td>0.0</td>\n",
       "      <td>0.0</td>\n",
       "      <td>0.0</td>\n",
       "      <td>0.0</td>\n",
       "      <td>0.0</td>\n",
       "      <td>0.0</td>\n",
       "      <td>0.0</td>\n",
       "      <td>0.0</td>\n",
       "      <td>0.0</td>\n",
       "      <td>0.0</td>\n",
       "    </tr>\n",
       "    <tr>\n",
       "      <th>1</th>\n",
       "      <td>1</td>\n",
       "      <td>Edgar</td>\n",
       "      <td>0.0</td>\n",
       "      <td>0.0</td>\n",
       "      <td>0.0</td>\n",
       "      <td>0.0</td>\n",
       "      <td>0.0</td>\n",
       "      <td>0.0</td>\n",
       "      <td>0.0</td>\n",
       "      <td>0.0</td>\n",
       "      <td>...</td>\n",
       "      <td>0.0</td>\n",
       "      <td>0.0</td>\n",
       "      <td>0.0</td>\n",
       "      <td>0.0</td>\n",
       "      <td>0.0</td>\n",
       "      <td>0.0</td>\n",
       "      <td>0.0</td>\n",
       "      <td>0.0</td>\n",
       "      <td>0.0</td>\n",
       "      <td>0.0</td>\n",
       "    </tr>\n",
       "    <tr>\n",
       "      <th>2</th>\n",
       "      <td>2</td>\n",
       "      <td>Addilyn</td>\n",
       "      <td>0.0</td>\n",
       "      <td>0.0</td>\n",
       "      <td>0.0</td>\n",
       "      <td>0.0</td>\n",
       "      <td>0.0</td>\n",
       "      <td>0.0</td>\n",
       "      <td>0.0</td>\n",
       "      <td>0.0</td>\n",
       "      <td>...</td>\n",
       "      <td>0.0</td>\n",
       "      <td>0.0</td>\n",
       "      <td>0.0</td>\n",
       "      <td>0.0</td>\n",
       "      <td>0.0</td>\n",
       "      <td>0.0</td>\n",
       "      <td>0.0</td>\n",
       "      <td>0.0</td>\n",
       "      <td>0.0</td>\n",
       "      <td>0.0</td>\n",
       "    </tr>\n",
       "    <tr>\n",
       "      <th>3</th>\n",
       "      <td>3</td>\n",
       "      <td>Marlee</td>\n",
       "      <td>0.0</td>\n",
       "      <td>0.0</td>\n",
       "      <td>0.0</td>\n",
       "      <td>0.0</td>\n",
       "      <td>0.0</td>\n",
       "      <td>0.0</td>\n",
       "      <td>0.0</td>\n",
       "      <td>0.0</td>\n",
       "      <td>...</td>\n",
       "      <td>0.0</td>\n",
       "      <td>0.0</td>\n",
       "      <td>0.0</td>\n",
       "      <td>0.0</td>\n",
       "      <td>0.0</td>\n",
       "      <td>0.0</td>\n",
       "      <td>0.0</td>\n",
       "      <td>0.0</td>\n",
       "      <td>0.0</td>\n",
       "      <td>0.0</td>\n",
       "    </tr>\n",
       "    <tr>\n",
       "      <th>4</th>\n",
       "      <td>4</td>\n",
       "      <td>Javier</td>\n",
       "      <td>0.0</td>\n",
       "      <td>0.0</td>\n",
       "      <td>0.0</td>\n",
       "      <td>0.0</td>\n",
       "      <td>0.0</td>\n",
       "      <td>0.0</td>\n",
       "      <td>0.0</td>\n",
       "      <td>0.0</td>\n",
       "      <td>...</td>\n",
       "      <td>0.0</td>\n",
       "      <td>0.0</td>\n",
       "      <td>0.0</td>\n",
       "      <td>0.0</td>\n",
       "      <td>0.0</td>\n",
       "      <td>0.0</td>\n",
       "      <td>0.0</td>\n",
       "      <td>0.0</td>\n",
       "      <td>0.0</td>\n",
       "      <td>0.0</td>\n",
       "    </tr>\n",
       "  </tbody>\n",
       "</table>\n",
       "<p>5 rows × 2002 columns</p>\n",
       "</div>"
      ],
      "text/plain": [
       "   Unnamed: 0     User  The Net  Happily N'Ever After  Tomorrowland  \\\n",
       "0           0  Vincent      0.0                   0.0           0.0   \n",
       "1           1    Edgar      0.0                   0.0           0.0   \n",
       "2           2  Addilyn      0.0                   0.0           0.0   \n",
       "3           3   Marlee      0.0                   0.0           0.0   \n",
       "4           4   Javier      0.0                   0.0           0.0   \n",
       "\n",
       "   American Hero  Das Boot  Final Destination 3  Licence to Kill  \\\n",
       "0            0.0       0.0                  0.0              0.0   \n",
       "1            0.0       0.0                  0.0              0.0   \n",
       "2            0.0       0.0                  0.0              0.0   \n",
       "3            0.0       0.0                  0.0              0.0   \n",
       "4            0.0       0.0                  0.0              0.0   \n",
       "\n",
       "   The Hundred-Foot Journey  ...  The Martian  Micmacs  Solomon and Sheba  \\\n",
       "0                       0.0  ...          0.0      0.0                0.0   \n",
       "1                       0.0  ...          0.0      0.0                0.0   \n",
       "2                       0.0  ...          0.0      0.0                0.0   \n",
       "3                       0.0  ...          0.0      0.0                0.0   \n",
       "4                       0.0  ...          0.0      0.0                0.0   \n",
       "\n",
       "   In the Company of Men  Silent House  Big Fish  Get Real  Trading Places  \\\n",
       "0                    0.0           0.0       0.0       0.0             0.0   \n",
       "1                    0.0           0.0       0.0       0.0             0.0   \n",
       "2                    0.0           0.0       0.0       0.0             0.0   \n",
       "3                    0.0           0.0       0.0       0.0             0.0   \n",
       "4                    0.0           0.0       0.0       0.0             0.0   \n",
       "\n",
       "   DOA: Dead or Alive  Hey Arnold! The Movie  \n",
       "0                 0.0                    0.0  \n",
       "1                 0.0                    0.0  \n",
       "2                 0.0                    0.0  \n",
       "3                 0.0                    0.0  \n",
       "4                 0.0                    0.0  \n",
       "\n",
       "[5 rows x 2002 columns]"
      ]
     },
     "execution_count": 3,
     "metadata": {},
     "output_type": "execute_result"
    }
   ],
   "source": [
    "user_reviews = pd.read_csv('C:\\\\Users\\\\Administrator\\\\movie_reviews\\\\user_reviews.csv')\n",
    "user_reviews.head()"
   ]
  },
  {
   "cell_type": "code",
   "execution_count": 4,
   "metadata": {},
   "outputs": [],
   "source": [
    "user_reviews['userID'] = range (0,user_reviews.shape[0])"
   ]
  },
  {
   "cell_type": "code",
   "execution_count": 5,
   "metadata": {},
   "outputs": [],
   "source": [
    "# pd.DataFrame(user_reviews.iloc[1][user_reviews.iloc[1]!=0].values, columns = ['rating']).iloc[2:-1]"
   ]
  },
  {
   "cell_type": "code",
   "execution_count": 6,
   "metadata": {},
   "outputs": [],
   "source": [
    "# len(user_reviews.iloc[1][user_reviews.iloc[1]!=0].values)"
   ]
  },
  {
   "cell_type": "code",
   "execution_count": 7,
   "metadata": {
    "scrolled": true
   },
   "outputs": [
    {
     "data": {
      "text/html": [
       "<div>\n",
       "<style scoped>\n",
       "    .dataframe tbody tr th:only-of-type {\n",
       "        vertical-align: middle;\n",
       "    }\n",
       "\n",
       "    .dataframe tbody tr th {\n",
       "        vertical-align: top;\n",
       "    }\n",
       "\n",
       "    .dataframe thead th {\n",
       "        text-align: right;\n",
       "    }\n",
       "</style>\n",
       "<table border=\"1\" class=\"dataframe\">\n",
       "  <thead>\n",
       "    <tr style=\"text-align: right;\">\n",
       "      <th></th>\n",
       "      <th>ID</th>\n",
       "      <th>variable</th>\n",
       "    </tr>\n",
       "  </thead>\n",
       "  <tbody>\n",
       "    <tr>\n",
       "      <th>0</th>\n",
       "      <td>0</td>\n",
       "      <td>The Net</td>\n",
       "    </tr>\n",
       "    <tr>\n",
       "      <th>1</th>\n",
       "      <td>1</td>\n",
       "      <td>Happily N'Ever After</td>\n",
       "    </tr>\n",
       "    <tr>\n",
       "      <th>2</th>\n",
       "      <td>2</td>\n",
       "      <td>Tomorrowland</td>\n",
       "    </tr>\n",
       "    <tr>\n",
       "      <th>3</th>\n",
       "      <td>3</td>\n",
       "      <td>American Hero</td>\n",
       "    </tr>\n",
       "    <tr>\n",
       "      <th>4</th>\n",
       "      <td>4</td>\n",
       "      <td>Das Boot</td>\n",
       "    </tr>\n",
       "  </tbody>\n",
       "</table>\n",
       "</div>"
      ],
      "text/plain": [
       "   ID              variable\n",
       "0   0               The Net\n",
       "1   1  Happily N'Ever After\n",
       "2   2          Tomorrowland\n",
       "3   3         American Hero\n",
       "4   4              Das Boot"
      ]
     },
     "execution_count": 7,
     "metadata": {},
     "output_type": "execute_result"
    }
   ],
   "source": [
    "moviesNames = list(user_reviews.columns[2:-2])\n",
    "moviesID = range (0, len(moviesNames))\n",
    "moviesNamesID = pd.DataFrame(moviesID, columns = ['ID'])\n",
    "moviesNamesID['variable'] = moviesNames\n",
    "moviesNamesID.head()"
   ]
  },
  {
   "cell_type": "code",
   "execution_count": 8,
   "metadata": {},
   "outputs": [],
   "source": [
    "# user_reviews['The Net'].sum()"
   ]
  },
  {
   "cell_type": "code",
   "execution_count": 9,
   "metadata": {},
   "outputs": [],
   "source": [
    "# (user_reviews[moviesNames].sum(axis=0)).values"
   ]
  },
  {
   "cell_type": "code",
   "execution_count": 10,
   "metadata": {},
   "outputs": [],
   "source": [
    "# len(list(user_reviews.columns[2:]))"
   ]
  },
  {
   "cell_type": "code",
   "execution_count": 11,
   "metadata": {},
   "outputs": [
    {
     "data": {
      "text/html": [
       "<div>\n",
       "<style scoped>\n",
       "    .dataframe tbody tr th:only-of-type {\n",
       "        vertical-align: middle;\n",
       "    }\n",
       "\n",
       "    .dataframe tbody tr th {\n",
       "        vertical-align: top;\n",
       "    }\n",
       "\n",
       "    .dataframe thead th {\n",
       "        text-align: right;\n",
       "    }\n",
       "</style>\n",
       "<table border=\"1\" class=\"dataframe\">\n",
       "  <thead>\n",
       "    <tr style=\"text-align: right;\">\n",
       "      <th></th>\n",
       "      <th>Unnamed: 0</th>\n",
       "      <th>movie_title</th>\n",
       "      <th>genre_action</th>\n",
       "      <th>genre_adventure</th>\n",
       "      <th>genre_animation</th>\n",
       "      <th>genre_biography</th>\n",
       "      <th>genre_comedy</th>\n",
       "      <th>genre_crime</th>\n",
       "      <th>genre_documentary</th>\n",
       "      <th>genre_drama</th>\n",
       "      <th>...</th>\n",
       "      <th>genre_mystery</th>\n",
       "      <th>genre_news</th>\n",
       "      <th>genre_reality-tv</th>\n",
       "      <th>genre_romance</th>\n",
       "      <th>genre_sci-fi</th>\n",
       "      <th>genre_short</th>\n",
       "      <th>genre_sport</th>\n",
       "      <th>genre_thriller</th>\n",
       "      <th>genre_war</th>\n",
       "      <th>genre_western</th>\n",
       "    </tr>\n",
       "  </thead>\n",
       "  <tbody>\n",
       "    <tr>\n",
       "      <th>0</th>\n",
       "      <td>0</td>\n",
       "      <td>The Net</td>\n",
       "      <td>1</td>\n",
       "      <td>0</td>\n",
       "      <td>0</td>\n",
       "      <td>0</td>\n",
       "      <td>0</td>\n",
       "      <td>1</td>\n",
       "      <td>0</td>\n",
       "      <td>1</td>\n",
       "      <td>...</td>\n",
       "      <td>1</td>\n",
       "      <td>0</td>\n",
       "      <td>0</td>\n",
       "      <td>0</td>\n",
       "      <td>0</td>\n",
       "      <td>0</td>\n",
       "      <td>0</td>\n",
       "      <td>1</td>\n",
       "      <td>0</td>\n",
       "      <td>0</td>\n",
       "    </tr>\n",
       "    <tr>\n",
       "      <th>1</th>\n",
       "      <td>1</td>\n",
       "      <td>Happily N'Ever After</td>\n",
       "      <td>0</td>\n",
       "      <td>1</td>\n",
       "      <td>1</td>\n",
       "      <td>0</td>\n",
       "      <td>1</td>\n",
       "      <td>0</td>\n",
       "      <td>0</td>\n",
       "      <td>0</td>\n",
       "      <td>...</td>\n",
       "      <td>0</td>\n",
       "      <td>0</td>\n",
       "      <td>0</td>\n",
       "      <td>0</td>\n",
       "      <td>0</td>\n",
       "      <td>0</td>\n",
       "      <td>0</td>\n",
       "      <td>0</td>\n",
       "      <td>0</td>\n",
       "      <td>0</td>\n",
       "    </tr>\n",
       "    <tr>\n",
       "      <th>2</th>\n",
       "      <td>2</td>\n",
       "      <td>Tomorrowland</td>\n",
       "      <td>1</td>\n",
       "      <td>1</td>\n",
       "      <td>0</td>\n",
       "      <td>0</td>\n",
       "      <td>0</td>\n",
       "      <td>0</td>\n",
       "      <td>0</td>\n",
       "      <td>0</td>\n",
       "      <td>...</td>\n",
       "      <td>1</td>\n",
       "      <td>0</td>\n",
       "      <td>0</td>\n",
       "      <td>0</td>\n",
       "      <td>1</td>\n",
       "      <td>0</td>\n",
       "      <td>0</td>\n",
       "      <td>0</td>\n",
       "      <td>0</td>\n",
       "      <td>0</td>\n",
       "    </tr>\n",
       "    <tr>\n",
       "      <th>3</th>\n",
       "      <td>3</td>\n",
       "      <td>American Hero</td>\n",
       "      <td>1</td>\n",
       "      <td>0</td>\n",
       "      <td>0</td>\n",
       "      <td>0</td>\n",
       "      <td>1</td>\n",
       "      <td>0</td>\n",
       "      <td>0</td>\n",
       "      <td>1</td>\n",
       "      <td>...</td>\n",
       "      <td>0</td>\n",
       "      <td>0</td>\n",
       "      <td>0</td>\n",
       "      <td>0</td>\n",
       "      <td>1</td>\n",
       "      <td>0</td>\n",
       "      <td>0</td>\n",
       "      <td>0</td>\n",
       "      <td>0</td>\n",
       "      <td>0</td>\n",
       "    </tr>\n",
       "    <tr>\n",
       "      <th>4</th>\n",
       "      <td>4</td>\n",
       "      <td>Das Boot</td>\n",
       "      <td>0</td>\n",
       "      <td>1</td>\n",
       "      <td>0</td>\n",
       "      <td>0</td>\n",
       "      <td>0</td>\n",
       "      <td>0</td>\n",
       "      <td>0</td>\n",
       "      <td>1</td>\n",
       "      <td>...</td>\n",
       "      <td>0</td>\n",
       "      <td>0</td>\n",
       "      <td>0</td>\n",
       "      <td>0</td>\n",
       "      <td>0</td>\n",
       "      <td>0</td>\n",
       "      <td>0</td>\n",
       "      <td>1</td>\n",
       "      <td>1</td>\n",
       "      <td>0</td>\n",
       "    </tr>\n",
       "  </tbody>\n",
       "</table>\n",
       "<p>5 rows × 27 columns</p>\n",
       "</div>"
      ],
      "text/plain": [
       "   Unnamed: 0           movie_title  genre_action  genre_adventure  \\\n",
       "0           0               The Net             1                0   \n",
       "1           1  Happily N'Ever After             0                1   \n",
       "2           2          Tomorrowland             1                1   \n",
       "3           3         American Hero             1                0   \n",
       "4           4              Das Boot             0                1   \n",
       "\n",
       "   genre_animation  genre_biography  genre_comedy  genre_crime  \\\n",
       "0                0                0             0            1   \n",
       "1                1                0             1            0   \n",
       "2                0                0             0            0   \n",
       "3                0                0             1            0   \n",
       "4                0                0             0            0   \n",
       "\n",
       "   genre_documentary  genre_drama  ...  genre_mystery  genre_news  \\\n",
       "0                  0            1  ...              1           0   \n",
       "1                  0            0  ...              0           0   \n",
       "2                  0            0  ...              1           0   \n",
       "3                  0            1  ...              0           0   \n",
       "4                  0            1  ...              0           0   \n",
       "\n",
       "   genre_reality-tv  genre_romance  genre_sci-fi  genre_short  genre_sport  \\\n",
       "0                 0              0             0            0            0   \n",
       "1                 0              0             0            0            0   \n",
       "2                 0              0             1            0            0   \n",
       "3                 0              0             1            0            0   \n",
       "4                 0              0             0            0            0   \n",
       "\n",
       "   genre_thriller  genre_war  genre_western  \n",
       "0               1          0              0  \n",
       "1               0          0              0  \n",
       "2               0          0              0  \n",
       "3               0          0              0  \n",
       "4               1          1              0  \n",
       "\n",
       "[5 rows x 27 columns]"
      ]
     },
     "execution_count": 11,
     "metadata": {},
     "output_type": "execute_result"
    }
   ],
   "source": [
    "movie_genres = pd.read_csv('C:\\\\Users\\\\Administrator\\\\movie_reviews\\\\movie_genres.csv')\n",
    "movie_genres.head()"
   ]
  },
  {
   "cell_type": "code",
   "execution_count": 12,
   "metadata": {},
   "outputs": [
    {
     "data": {
      "text/html": [
       "<div>\n",
       "<style scoped>\n",
       "    .dataframe tbody tr th:only-of-type {\n",
       "        vertical-align: middle;\n",
       "    }\n",
       "\n",
       "    .dataframe tbody tr th {\n",
       "        vertical-align: top;\n",
       "    }\n",
       "\n",
       "    .dataframe thead th {\n",
       "        text-align: right;\n",
       "    }\n",
       "</style>\n",
       "<table border=\"1\" class=\"dataframe\">\n",
       "  <thead>\n",
       "    <tr style=\"text-align: right;\">\n",
       "      <th></th>\n",
       "      <th>Ratings Count</th>\n",
       "    </tr>\n",
       "  </thead>\n",
       "  <tbody>\n",
       "    <tr>\n",
       "      <th>The Net</th>\n",
       "      <td>14</td>\n",
       "    </tr>\n",
       "    <tr>\n",
       "      <th>Happily N'Ever After</th>\n",
       "      <td>10</td>\n",
       "    </tr>\n",
       "    <tr>\n",
       "      <th>Tomorrowland</th>\n",
       "      <td>11</td>\n",
       "    </tr>\n",
       "    <tr>\n",
       "      <th>American Hero</th>\n",
       "      <td>10</td>\n",
       "    </tr>\n",
       "    <tr>\n",
       "      <th>Das Boot</th>\n",
       "      <td>11</td>\n",
       "    </tr>\n",
       "  </tbody>\n",
       "</table>\n",
       "</div>"
      ],
      "text/plain": [
       "                      Ratings Count\n",
       "The Net                          14\n",
       "Happily N'Ever After             10\n",
       "Tomorrowland                     11\n",
       "American Hero                    10\n",
       "Das Boot                         11"
      ]
     },
     "execution_count": 12,
     "metadata": {},
     "output_type": "execute_result"
    }
   ],
   "source": [
    "moviesProperties = pd.DataFrame((user_reviews != 0).sum(), columns = ['Ratings Count']).iloc[2:]\n",
    "moviesProperties.head()"
   ]
  },
  {
   "cell_type": "code",
   "execution_count": 13,
   "metadata": {},
   "outputs": [],
   "source": [
    "# moviesProperties['Sum of ratings'] = (user_reviews[moviesNames].sum(axis=0)).values\n",
    "# moviesProperties.head()"
   ]
  },
  {
   "cell_type": "markdown",
   "metadata": {},
   "source": [
    "average rating = Sum of ratings/Ratings Count"
   ]
  },
  {
   "cell_type": "code",
   "execution_count": 14,
   "metadata": {},
   "outputs": [],
   "source": [
    "# moviesProperties['Average rating'] = (moviesProperties['Sum of ratings']/ moviesProperties['Ratings Count']).round(1)\n",
    "# moviesProperties.head()"
   ]
  },
  {
   "cell_type": "code",
   "execution_count": 15,
   "metadata": {},
   "outputs": [],
   "source": [
    "# moviesProperties['MovieID'] =  range(0, 2000)\n",
    "# moviesProperties.head()"
   ]
  },
  {
   "cell_type": "code",
   "execution_count": 16,
   "metadata": {},
   "outputs": [],
   "source": [
    "# pd.DataFrame(user_reviews.iloc[1][user_reviews.iloc[1]!=0].values, columns = ['rating']).iloc[2:-1]"
   ]
  },
  {
   "cell_type": "code",
   "execution_count": 17,
   "metadata": {},
   "outputs": [],
   "source": [
    "# user_reviews[user_reviews.userID == 1].sum(axis=0)"
   ]
  },
  {
   "cell_type": "code",
   "execution_count": 18,
   "metadata": {},
   "outputs": [],
   "source": [
    "# user_reviews[user_reviews.userID == 1]"
   ]
  },
  {
   "cell_type": "code",
   "execution_count": 19,
   "metadata": {
    "scrolled": false
   },
   "outputs": [],
   "source": [
    "# user_reviews[user_reviews.userID == 1].any(0)[user_reviews[user_reviews.userID == 1].any(0).values == True].keys()[2:-1]"
   ]
  },
  {
   "cell_type": "code",
   "execution_count": 20,
   "metadata": {},
   "outputs": [],
   "source": [
    "# userMovieList = list(user_reviews[user_reviews.userID == 1].any(0)[user_reviews[user_reviews.userID == 1].any(0).values == True].keys()[2:-1])\n",
    "# user_reviews[user_reviews.userID == 1]\n"
   ]
  },
  {
   "cell_type": "code",
   "execution_count": 21,
   "metadata": {},
   "outputs": [],
   "source": [
    "# user_reviews[user_reviews.userID == 1][list(userMovieList)]"
   ]
  },
  {
   "cell_type": "code",
   "execution_count": 22,
   "metadata": {},
   "outputs": [],
   "source": [
    "# user_reviews[user_reviews.userID == 1][list(userMovieList)].melt()"
   ]
  },
  {
   "cell_type": "code",
   "execution_count": 23,
   "metadata": {},
   "outputs": [],
   "source": [
    "# moviesRatings = user_reviews[user_reviews.userID == 1][list(userMovieList)].melt()\n",
    "# moviesRatings['userID'] = [1]* moviesRatings.shape[0]\n",
    "# moviesRatings"
   ]
  },
  {
   "cell_type": "code",
   "execution_count": 24,
   "metadata": {},
   "outputs": [],
   "source": [
    "userMovieList = list(user_reviews[user_reviews.userID == 0].any(0)[user_reviews[user_reviews.userID == 0].any(0).values == True].keys()[2:-1])\n",
    "moviesRatings = user_reviews[user_reviews.userID == 0][list(userMovieList)].melt()\n",
    "moviesRatings['userID'] = [0]* moviesRatings.shape[0]\n",
    "for i in range (1,user_reviews.shape[0]):\n",
    "    userMovieListTemp = list(user_reviews[user_reviews.userID == i].any(0)[user_reviews[user_reviews.userID == i].any(0).values == True].keys()[2:-1])\n",
    "    moviesRatingsTemp = user_reviews[user_reviews.userID == i][list(userMovieListTemp)].melt()\n",
    "    moviesRatingsTemp['userID'] = [i]* moviesRatingsTemp.shape[0]\n",
    "    moviesRatings = moviesRatings.append(moviesRatingsTemp)\n",
    "    \n"
   ]
  },
  {
   "cell_type": "code",
   "execution_count": 25,
   "metadata": {},
   "outputs": [],
   "source": [
    "moviesRatings = moviesRatings.reset_index()\n",
    "moviesRatings = moviesRatings[['userID','value','variable']]\n",
    "moviesRatings = pd.merge(moviesRatings,user_reviews[['User','userID']],how=\"inner\",\n",
    "    on='userID' )"
   ]
  },
  {
   "cell_type": "code",
   "execution_count": 26,
   "metadata": {},
   "outputs": [
    {
     "data": {
      "text/html": [
       "<div>\n",
       "<style scoped>\n",
       "    .dataframe tbody tr th:only-of-type {\n",
       "        vertical-align: middle;\n",
       "    }\n",
       "\n",
       "    .dataframe tbody tr th {\n",
       "        vertical-align: top;\n",
       "    }\n",
       "\n",
       "    .dataframe thead th {\n",
       "        text-align: right;\n",
       "    }\n",
       "</style>\n",
       "<table border=\"1\" class=\"dataframe\">\n",
       "  <thead>\n",
       "    <tr style=\"text-align: right;\">\n",
       "      <th></th>\n",
       "      <th>userID</th>\n",
       "      <th>value</th>\n",
       "      <th>variable</th>\n",
       "      <th>User</th>\n",
       "    </tr>\n",
       "  </thead>\n",
       "  <tbody>\n",
       "    <tr>\n",
       "      <th>0</th>\n",
       "      <td>0</td>\n",
       "      <td>3.0</td>\n",
       "      <td>Shattered</td>\n",
       "      <td>Vincent</td>\n",
       "    </tr>\n",
       "    <tr>\n",
       "      <th>1</th>\n",
       "      <td>0</td>\n",
       "      <td>3.0</td>\n",
       "      <td>Passchendaele</td>\n",
       "      <td>Vincent</td>\n",
       "    </tr>\n",
       "    <tr>\n",
       "      <th>2</th>\n",
       "      <td>0</td>\n",
       "      <td>3.0</td>\n",
       "      <td>Broken Arrow</td>\n",
       "      <td>Vincent</td>\n",
       "    </tr>\n",
       "    <tr>\n",
       "      <th>3</th>\n",
       "      <td>0</td>\n",
       "      <td>4.0</td>\n",
       "      <td>Songcatcher</td>\n",
       "      <td>Vincent</td>\n",
       "    </tr>\n",
       "    <tr>\n",
       "      <th>4</th>\n",
       "      <td>0</td>\n",
       "      <td>5.0</td>\n",
       "      <td>The Importance of Being Earnest</td>\n",
       "      <td>Vincent</td>\n",
       "    </tr>\n",
       "  </tbody>\n",
       "</table>\n",
       "</div>"
      ],
      "text/plain": [
       "   userID  value                         variable     User\n",
       "0       0    3.0                        Shattered  Vincent\n",
       "1       0    3.0                    Passchendaele  Vincent\n",
       "2       0    3.0                     Broken Arrow  Vincent\n",
       "3       0    4.0                      Songcatcher  Vincent\n",
       "4       0    5.0  The Importance of Being Earnest  Vincent"
      ]
     },
     "execution_count": 26,
     "metadata": {},
     "output_type": "execute_result"
    }
   ],
   "source": [
    "moviesRatings.head()"
   ]
  },
  {
   "cell_type": "code",
   "execution_count": 27,
   "metadata": {},
   "outputs": [
    {
     "data": {
      "text/html": [
       "<div>\n",
       "<style scoped>\n",
       "    .dataframe tbody tr th:only-of-type {\n",
       "        vertical-align: middle;\n",
       "    }\n",
       "\n",
       "    .dataframe tbody tr th {\n",
       "        vertical-align: top;\n",
       "    }\n",
       "\n",
       "    .dataframe thead th {\n",
       "        text-align: right;\n",
       "    }\n",
       "</style>\n",
       "<table border=\"1\" class=\"dataframe\">\n",
       "  <thead>\n",
       "    <tr style=\"text-align: right;\">\n",
       "      <th></th>\n",
       "      <th>userID</th>\n",
       "      <th>value</th>\n",
       "      <th>variable</th>\n",
       "      <th>User</th>\n",
       "    </tr>\n",
       "  </thead>\n",
       "  <tbody>\n",
       "    <tr>\n",
       "      <th>16518</th>\n",
       "      <td>599</td>\n",
       "      <td>4.0</td>\n",
       "      <td>The Bank Job</td>\n",
       "      <td>Sarai</td>\n",
       "    </tr>\n",
       "    <tr>\n",
       "      <th>16519</th>\n",
       "      <td>599</td>\n",
       "      <td>4.0</td>\n",
       "      <td>The Stepfather</td>\n",
       "      <td>Sarai</td>\n",
       "    </tr>\n",
       "    <tr>\n",
       "      <th>16520</th>\n",
       "      <td>599</td>\n",
       "      <td>2.0</td>\n",
       "      <td>Good Kill</td>\n",
       "      <td>Sarai</td>\n",
       "    </tr>\n",
       "    <tr>\n",
       "      <th>16521</th>\n",
       "      <td>599</td>\n",
       "      <td>2.0</td>\n",
       "      <td>Sugar Hill</td>\n",
       "      <td>Sarai</td>\n",
       "    </tr>\n",
       "    <tr>\n",
       "      <th>16522</th>\n",
       "      <td>599</td>\n",
       "      <td>3.0</td>\n",
       "      <td>Waking Ned Devine</td>\n",
       "      <td>Sarai</td>\n",
       "    </tr>\n",
       "  </tbody>\n",
       "</table>\n",
       "</div>"
      ],
      "text/plain": [
       "       userID  value           variable   User\n",
       "16518     599    4.0       The Bank Job  Sarai\n",
       "16519     599    4.0     The Stepfather  Sarai\n",
       "16520     599    2.0          Good Kill  Sarai\n",
       "16521     599    2.0         Sugar Hill  Sarai\n",
       "16522     599    3.0  Waking Ned Devine  Sarai"
      ]
     },
     "execution_count": 27,
     "metadata": {},
     "output_type": "execute_result"
    }
   ],
   "source": [
    "moviesRatings.tail()"
   ]
  },
  {
   "cell_type": "code",
   "execution_count": 28,
   "metadata": {
    "scrolled": true
   },
   "outputs": [],
   "source": [
    "# from surprise import SVD\n",
    "# from surprise import Dataset\n",
    "# from surprise.model_selection import evaluate\n",
    "\n",
    "data = moviesRatings\n",
    "\n",
    "\n",
    "svd = SVD()\n",
    "\n",
    "# evaluate(svd, data, measures=['RMSE', 'MAE'])\n"
   ]
  },
  {
   "cell_type": "code",
   "execution_count": 29,
   "metadata": {},
   "outputs": [
    {
     "data": {
      "text/html": [
       "<div>\n",
       "<style scoped>\n",
       "    .dataframe tbody tr th:only-of-type {\n",
       "        vertical-align: middle;\n",
       "    }\n",
       "\n",
       "    .dataframe tbody tr th {\n",
       "        vertical-align: top;\n",
       "    }\n",
       "\n",
       "    .dataframe thead th {\n",
       "        text-align: right;\n",
       "    }\n",
       "</style>\n",
       "<table border=\"1\" class=\"dataframe\">\n",
       "  <thead>\n",
       "    <tr style=\"text-align: right;\">\n",
       "      <th></th>\n",
       "      <th>userID</th>\n",
       "      <th>value</th>\n",
       "      <th>variable</th>\n",
       "      <th>User</th>\n",
       "    </tr>\n",
       "  </thead>\n",
       "  <tbody>\n",
       "    <tr>\n",
       "      <th>0</th>\n",
       "      <td>0</td>\n",
       "      <td>3.0</td>\n",
       "      <td>Shattered</td>\n",
       "      <td>Vincent</td>\n",
       "    </tr>\n",
       "    <tr>\n",
       "      <th>1</th>\n",
       "      <td>0</td>\n",
       "      <td>3.0</td>\n",
       "      <td>Passchendaele</td>\n",
       "      <td>Vincent</td>\n",
       "    </tr>\n",
       "    <tr>\n",
       "      <th>2</th>\n",
       "      <td>0</td>\n",
       "      <td>3.0</td>\n",
       "      <td>Broken Arrow</td>\n",
       "      <td>Vincent</td>\n",
       "    </tr>\n",
       "    <tr>\n",
       "      <th>3</th>\n",
       "      <td>0</td>\n",
       "      <td>4.0</td>\n",
       "      <td>Songcatcher</td>\n",
       "      <td>Vincent</td>\n",
       "    </tr>\n",
       "    <tr>\n",
       "      <th>4</th>\n",
       "      <td>0</td>\n",
       "      <td>5.0</td>\n",
       "      <td>The Importance of Being Earnest</td>\n",
       "      <td>Vincent</td>\n",
       "    </tr>\n",
       "  </tbody>\n",
       "</table>\n",
       "</div>"
      ],
      "text/plain": [
       "   userID  value                         variable     User\n",
       "0       0    3.0                        Shattered  Vincent\n",
       "1       0    3.0                    Passchendaele  Vincent\n",
       "2       0    3.0                     Broken Arrow  Vincent\n",
       "3       0    4.0                      Songcatcher  Vincent\n",
       "4       0    5.0  The Importance of Being Earnest  Vincent"
      ]
     },
     "execution_count": 29,
     "metadata": {},
     "output_type": "execute_result"
    }
   ],
   "source": [
    "data.head()"
   ]
  },
  {
   "cell_type": "code",
   "execution_count": 30,
   "metadata": {},
   "outputs": [
    {
     "data": {
      "text/html": [
       "<div>\n",
       "<style scoped>\n",
       "    .dataframe tbody tr th:only-of-type {\n",
       "        vertical-align: middle;\n",
       "    }\n",
       "\n",
       "    .dataframe tbody tr th {\n",
       "        vertical-align: top;\n",
       "    }\n",
       "\n",
       "    .dataframe thead th {\n",
       "        text-align: right;\n",
       "    }\n",
       "</style>\n",
       "<table border=\"1\" class=\"dataframe\">\n",
       "  <thead>\n",
       "    <tr style=\"text-align: right;\">\n",
       "      <th></th>\n",
       "      <th>userID</th>\n",
       "      <th>rating</th>\n",
       "      <th>movie name</th>\n",
       "      <th>userName</th>\n",
       "      <th>movie ID</th>\n",
       "    </tr>\n",
       "  </thead>\n",
       "  <tbody>\n",
       "    <tr>\n",
       "      <th>0</th>\n",
       "      <td>0</td>\n",
       "      <td>3.0</td>\n",
       "      <td>Shattered</td>\n",
       "      <td>Vincent</td>\n",
       "      <td>141</td>\n",
       "    </tr>\n",
       "    <tr>\n",
       "      <th>1</th>\n",
       "      <td>17</td>\n",
       "      <td>5.0</td>\n",
       "      <td>Shattered</td>\n",
       "      <td>Emely</td>\n",
       "      <td>141</td>\n",
       "    </tr>\n",
       "    <tr>\n",
       "      <th>2</th>\n",
       "      <td>83</td>\n",
       "      <td>3.0</td>\n",
       "      <td>Shattered</td>\n",
       "      <td>Ava</td>\n",
       "      <td>141</td>\n",
       "    </tr>\n",
       "    <tr>\n",
       "      <th>3</th>\n",
       "      <td>179</td>\n",
       "      <td>4.0</td>\n",
       "      <td>Shattered</td>\n",
       "      <td>Scarlett</td>\n",
       "      <td>141</td>\n",
       "    </tr>\n",
       "    <tr>\n",
       "      <th>4</th>\n",
       "      <td>234</td>\n",
       "      <td>2.0</td>\n",
       "      <td>Shattered</td>\n",
       "      <td>Raven</td>\n",
       "      <td>141</td>\n",
       "    </tr>\n",
       "  </tbody>\n",
       "</table>\n",
       "</div>"
      ],
      "text/plain": [
       "   userID  rating movie name  userName  movie ID\n",
       "0       0     3.0  Shattered   Vincent       141\n",
       "1      17     5.0  Shattered     Emely       141\n",
       "2      83     3.0  Shattered       Ava       141\n",
       "3     179     4.0  Shattered  Scarlett       141\n",
       "4     234     2.0  Shattered     Raven       141"
      ]
     },
     "execution_count": 30,
     "metadata": {},
     "output_type": "execute_result"
    }
   ],
   "source": [
    "data = pd.merge(\n",
    "    data,\n",
    "    moviesNamesID,\n",
    "    how=\"inner\",\n",
    "    on='variable')\n",
    "data = data.rename(columns={'value': 'rating','variable': 'movie name','ID': 'movie ID','User': 'userName'})\n",
    "data.head()"
   ]
  },
  {
   "cell_type": "code",
   "execution_count": 35,
   "metadata": {},
   "outputs": [],
   "source": [
    "reader = Reader(rating_scale=(1, 5))\n",
    "\n",
    "data = data[['userID','userName','rating','movie ID','movie name']]\n",
    "dataRead = Dataset.load_from_df(data[['userID', 'movie ID', 'rating']], reader)"
   ]
  },
  {
   "cell_type": "code",
   "execution_count": null,
   "metadata": {},
   "outputs": [],
   "source": []
  },
  {
   "cell_type": "code",
   "execution_count": 36,
   "metadata": {},
   "outputs": [],
   "source": [
    "anti_set = dataRead.build_full_trainset().build_anti_testset()"
   ]
  },
  {
   "cell_type": "code",
   "execution_count": 37,
   "metadata": {
    "scrolled": false
   },
   "outputs": [
    {
     "data": {
      "text/plain": [
       "[(0, 57, 3.433969118982743),\n",
       " (0, 121, 3.433969118982743),\n",
       " (0, 147, 3.433969118982743),\n",
       " (0, 163, 3.433969118982743),\n",
       " (0, 168, 3.433969118982743)]"
      ]
     },
     "execution_count": 37,
     "metadata": {},
     "output_type": "execute_result"
    }
   ],
   "source": [
    "anti_set[:5]"
   ]
  },
  {
   "cell_type": "code",
   "execution_count": 38,
   "metadata": {},
   "outputs": [
    {
     "data": {
      "text/html": [
       "<div>\n",
       "<style scoped>\n",
       "    .dataframe tbody tr th:only-of-type {\n",
       "        vertical-align: middle;\n",
       "    }\n",
       "\n",
       "    .dataframe tbody tr th {\n",
       "        vertical-align: top;\n",
       "    }\n",
       "\n",
       "    .dataframe thead th {\n",
       "        text-align: right;\n",
       "    }\n",
       "</style>\n",
       "<table border=\"1\" class=\"dataframe\">\n",
       "  <thead>\n",
       "    <tr style=\"text-align: right;\">\n",
       "      <th></th>\n",
       "      <th>userID</th>\n",
       "      <th>userName</th>\n",
       "      <th>rating</th>\n",
       "      <th>movie ID</th>\n",
       "      <th>movie name</th>\n",
       "    </tr>\n",
       "  </thead>\n",
       "  <tbody>\n",
       "    <tr>\n",
       "      <th>0</th>\n",
       "      <td>0</td>\n",
       "      <td>Vincent</td>\n",
       "      <td>3.0</td>\n",
       "      <td>141</td>\n",
       "      <td>Shattered</td>\n",
       "    </tr>\n",
       "    <tr>\n",
       "      <th>1</th>\n",
       "      <td>17</td>\n",
       "      <td>Emely</td>\n",
       "      <td>5.0</td>\n",
       "      <td>141</td>\n",
       "      <td>Shattered</td>\n",
       "    </tr>\n",
       "    <tr>\n",
       "      <th>2</th>\n",
       "      <td>83</td>\n",
       "      <td>Ava</td>\n",
       "      <td>3.0</td>\n",
       "      <td>141</td>\n",
       "      <td>Shattered</td>\n",
       "    </tr>\n",
       "    <tr>\n",
       "      <th>3</th>\n",
       "      <td>179</td>\n",
       "      <td>Scarlett</td>\n",
       "      <td>4.0</td>\n",
       "      <td>141</td>\n",
       "      <td>Shattered</td>\n",
       "    </tr>\n",
       "    <tr>\n",
       "      <th>4</th>\n",
       "      <td>234</td>\n",
       "      <td>Raven</td>\n",
       "      <td>2.0</td>\n",
       "      <td>141</td>\n",
       "      <td>Shattered</td>\n",
       "    </tr>\n",
       "  </tbody>\n",
       "</table>\n",
       "</div>"
      ],
      "text/plain": [
       "   userID  userName  rating  movie ID movie name\n",
       "0       0   Vincent     3.0       141  Shattered\n",
       "1      17     Emely     5.0       141  Shattered\n",
       "2      83       Ava     3.0       141  Shattered\n",
       "3     179  Scarlett     4.0       141  Shattered\n",
       "4     234     Raven     2.0       141  Shattered"
      ]
     },
     "execution_count": 38,
     "metadata": {},
     "output_type": "execute_result"
    }
   ],
   "source": [
    "data.head()"
   ]
  },
  {
   "cell_type": "code",
   "execution_count": 39,
   "metadata": {},
   "outputs": [],
   "source": [
    "movies = data[['movie ID' , 'movie name']].drop_duplicates(['movie ID' , 'movie name'])\n",
    "users = data[['userID' , 'userName']].drop_duplicates(['userID' , 'userName'])"
   ]
  },
  {
   "cell_type": "markdown",
   "metadata": {},
   "source": [
    "# Basic K-NN"
   ]
  },
  {
   "cell_type": "code",
   "execution_count": 40,
   "metadata": {},
   "outputs": [
    {
     "name": "stdout",
     "output_type": "stream",
     "text": [
      "Computing the msd similarity matrix...\n",
      "Done computing similarity matrix.\n",
      "RMSE: 1.4174\n",
      "Computing the msd similarity matrix...\n",
      "Done computing similarity matrix.\n",
      "RMSE: 1.4109\n",
      "Computing the msd similarity matrix...\n",
      "Done computing similarity matrix.\n",
      "RMSE: 1.4231\n"
     ]
    }
   ],
   "source": [
    "kf = KFold(n_splits=3)\n",
    "algo = KNNBasic()\n",
    "best_algo = None\n",
    "best_rmse = 1000.0\n",
    "best_pred = None\n",
    "for trainset, testset in kf.split(dataRead):\n",
    "    # train and test algorithm.\n",
    "    algo.fit(trainset)\n",
    "    predictions = algo.test(testset)\n",
    "    # Compute and print Root Mean Squared Error\n",
    "    rmse = accuracy.rmse(predictions, verbose=True)\n",
    "    if rmse < best_rmse:\n",
    "        best_algo = algo\n",
    "        best_pred = predictions"
   ]
  },
  {
   "cell_type": "code",
   "execution_count": 41,
   "metadata": {
    "scrolled": false
   },
   "outputs": [
    {
     "data": {
      "text/plain": [
       "[Prediction(uid=144, iid=802, r_ui=1.0, est=2.0, details={'actual_k': 1, 'was_impossible': False}),\n",
       " Prediction(uid=434, iid=333, r_ui=2.0, est=3.0, details={'actual_k': 2, 'was_impossible': False}),\n",
       " Prediction(uid=311, iid=1681, r_ui=4.0, est=2.0, details={'actual_k': 3, 'was_impossible': False}),\n",
       " Prediction(uid=380, iid=1278, r_ui=2.0, est=3.4380563124432335, details={'was_impossible': True, 'reason': 'Not enough neighbors.'}),\n",
       " Prediction(uid=291, iid=462, r_ui=5.0, est=3.4380563124432335, details={'was_impossible': True, 'reason': 'Not enough neighbors.'})]"
      ]
     },
     "execution_count": 41,
     "metadata": {},
     "output_type": "execute_result"
    }
   ],
   "source": [
    "best_pred[:5]"
   ]
  },
  {
   "cell_type": "markdown",
   "metadata": {},
   "source": [
    "# K-NN with means"
   ]
  },
  {
   "cell_type": "code",
   "execution_count": 42,
   "metadata": {},
   "outputs": [
    {
     "name": "stdout",
     "output_type": "stream",
     "text": [
      "Computing the cosine similarity matrix...\n",
      "Done computing similarity matrix.\n",
      "RMSE: 1.3585\n",
      "Computing the cosine similarity matrix...\n",
      "Done computing similarity matrix.\n",
      "RMSE: 1.3514\n",
      "Computing the cosine similarity matrix...\n",
      "Done computing similarity matrix.\n",
      "RMSE: 1.3472\n",
      "Computing the cosine similarity matrix...\n",
      "Done computing similarity matrix.\n",
      "RMSE: 1.3478\n",
      "Computing the cosine similarity matrix...\n",
      "Done computing similarity matrix.\n",
      "RMSE: 1.3572\n",
      "1.3471953909365961\n"
     ]
    }
   ],
   "source": [
    "kf = KFold(n_splits=5)\n",
    "sim_options = {'name':'cosine'}\n",
    "algo = KNNWithMeans(sim_options = sim_options)\n",
    "best_algo = None\n",
    "best_rmse = 1000.0\n",
    "best_pred = None\n",
    "for trainset, testset in kf.split(dataRead):\n",
    "    # train and test algorithm.\n",
    "    algo.fit(trainset)\n",
    "    predictions = algo.test(testset)\n",
    "    # Compute and print Root Mean Squared Error\n",
    "    rmse = accuracy.rmse(predictions, verbose=True)\n",
    "    if rmse < best_rmse:\n",
    "        best_algo = algo\n",
    "        best_rmse= rmse\n",
    "        best_pred = predictions\n",
    "print(best_rmse)"
   ]
  },
  {
   "cell_type": "code",
   "execution_count": 43,
   "metadata": {},
   "outputs": [
    {
     "data": {
      "text/html": [
       "<div>\n",
       "<style scoped>\n",
       "    .dataframe tbody tr th:only-of-type {\n",
       "        vertical-align: middle;\n",
       "    }\n",
       "\n",
       "    .dataframe tbody tr th {\n",
       "        vertical-align: top;\n",
       "    }\n",
       "\n",
       "    .dataframe thead th {\n",
       "        text-align: right;\n",
       "    }\n",
       "</style>\n",
       "<table border=\"1\" class=\"dataframe\">\n",
       "  <thead>\n",
       "    <tr style=\"text-align: right;\">\n",
       "      <th></th>\n",
       "      <th>uid</th>\n",
       "      <th>iid</th>\n",
       "      <th>userName</th>\n",
       "      <th>userID</th>\n",
       "      <th>movie name</th>\n",
       "      <th>movie ID</th>\n",
       "      <th>est</th>\n",
       "      <th>rating</th>\n",
       "    </tr>\n",
       "  </thead>\n",
       "  <tbody>\n",
       "    <tr>\n",
       "      <th>0</th>\n",
       "      <td>105</td>\n",
       "      <td>1811</td>\n",
       "      <td>Sawyer</td>\n",
       "      <td>105</td>\n",
       "      <td>Alice in Wonderland</td>\n",
       "      <td>1811</td>\n",
       "      <td>3.089803</td>\n",
       "      <td>4.0</td>\n",
       "    </tr>\n",
       "    <tr>\n",
       "      <th>1</th>\n",
       "      <td>507</td>\n",
       "      <td>1256</td>\n",
       "      <td>Theodore</td>\n",
       "      <td>507</td>\n",
       "      <td>Back to the Future Part II</td>\n",
       "      <td>1256</td>\n",
       "      <td>2.888889</td>\n",
       "      <td>4.0</td>\n",
       "    </tr>\n",
       "    <tr>\n",
       "      <th>2</th>\n",
       "      <td>356</td>\n",
       "      <td>1168</td>\n",
       "      <td>Heaven</td>\n",
       "      <td>356</td>\n",
       "      <td>Warrior</td>\n",
       "      <td>1168</td>\n",
       "      <td>4.149351</td>\n",
       "      <td>2.0</td>\n",
       "    </tr>\n",
       "    <tr>\n",
       "      <th>3</th>\n",
       "      <td>517</td>\n",
       "      <td>186</td>\n",
       "      <td>Daniel</td>\n",
       "      <td>517</td>\n",
       "      <td>George and the Dragon</td>\n",
       "      <td>186</td>\n",
       "      <td>3.447542</td>\n",
       "      <td>3.0</td>\n",
       "    </tr>\n",
       "    <tr>\n",
       "      <th>4</th>\n",
       "      <td>226</td>\n",
       "      <td>1197</td>\n",
       "      <td>Cora</td>\n",
       "      <td>226</td>\n",
       "      <td>Eye of the Dolphin</td>\n",
       "      <td>1197</td>\n",
       "      <td>3.867778</td>\n",
       "      <td>3.0</td>\n",
       "    </tr>\n",
       "    <tr>\n",
       "      <th>...</th>\n",
       "      <td>...</td>\n",
       "      <td>...</td>\n",
       "      <td>...</td>\n",
       "      <td>...</td>\n",
       "      <td>...</td>\n",
       "      <td>...</td>\n",
       "      <td>...</td>\n",
       "      <td>...</td>\n",
       "    </tr>\n",
       "    <tr>\n",
       "      <th>3298</th>\n",
       "      <td>443</td>\n",
       "      <td>515</td>\n",
       "      <td>Leonel</td>\n",
       "      <td>443</td>\n",
       "      <td>Atlas Shrugged II: The Strike</td>\n",
       "      <td>515</td>\n",
       "      <td>2.968651</td>\n",
       "      <td>3.0</td>\n",
       "    </tr>\n",
       "    <tr>\n",
       "      <th>3299</th>\n",
       "      <td>0</td>\n",
       "      <td>1873</td>\n",
       "      <td>Vincent</td>\n",
       "      <td>0</td>\n",
       "      <td>Next Day Air</td>\n",
       "      <td>1873</td>\n",
       "      <td>3.040000</td>\n",
       "      <td>3.0</td>\n",
       "    </tr>\n",
       "    <tr>\n",
       "      <th>3300</th>\n",
       "      <td>457</td>\n",
       "      <td>1841</td>\n",
       "      <td>Carolina</td>\n",
       "      <td>457</td>\n",
       "      <td>The Spiderwick Chronicles</td>\n",
       "      <td>1841</td>\n",
       "      <td>3.022222</td>\n",
       "      <td>2.0</td>\n",
       "    </tr>\n",
       "    <tr>\n",
       "      <th>3301</th>\n",
       "      <td>348</td>\n",
       "      <td>525</td>\n",
       "      <td>Emmett</td>\n",
       "      <td>348</td>\n",
       "      <td>The Shawshank Redemption</td>\n",
       "      <td>525</td>\n",
       "      <td>2.929952</td>\n",
       "      <td>2.0</td>\n",
       "    </tr>\n",
       "    <tr>\n",
       "      <th>3302</th>\n",
       "      <td>399</td>\n",
       "      <td>641</td>\n",
       "      <td>Landen</td>\n",
       "      <td>399</td>\n",
       "      <td>It's a Wonderful Afterlife</td>\n",
       "      <td>641</td>\n",
       "      <td>3.654934</td>\n",
       "      <td>5.0</td>\n",
       "    </tr>\n",
       "  </tbody>\n",
       "</table>\n",
       "<p>3303 rows × 8 columns</p>\n",
       "</div>"
      ],
      "text/plain": [
       "      uid   iid  userName  userID                     movie name  movie ID  \\\n",
       "0     105  1811    Sawyer     105            Alice in Wonderland      1811   \n",
       "1     507  1256  Theodore     507     Back to the Future Part II      1256   \n",
       "2     356  1168    Heaven     356                        Warrior      1168   \n",
       "3     517   186    Daniel     517          George and the Dragon       186   \n",
       "4     226  1197      Cora     226             Eye of the Dolphin      1197   \n",
       "...   ...   ...       ...     ...                            ...       ...   \n",
       "3298  443   515    Leonel     443  Atlas Shrugged II: The Strike       515   \n",
       "3299    0  1873   Vincent       0                   Next Day Air      1873   \n",
       "3300  457  1841  Carolina     457      The Spiderwick Chronicles      1841   \n",
       "3301  348   525    Emmett     348       The Shawshank Redemption       525   \n",
       "3302  399   641    Landen     399     It's a Wonderful Afterlife       641   \n",
       "\n",
       "           est  rating  \n",
       "0     3.089803     4.0  \n",
       "1     2.888889     4.0  \n",
       "2     4.149351     2.0  \n",
       "3     3.447542     3.0  \n",
       "4     3.867778     3.0  \n",
       "...        ...     ...  \n",
       "3298  2.968651     3.0  \n",
       "3299  3.040000     3.0  \n",
       "3300  3.022222     2.0  \n",
       "3301  2.929952     2.0  \n",
       "3302  3.654934     5.0  \n",
       "\n",
       "[3303 rows x 8 columns]"
      ]
     },
     "execution_count": 43,
     "metadata": {},
     "output_type": "execute_result"
    }
   ],
   "source": [
    "pred_df = pd.DataFrame(best_pred).merge(data , left_on = ['uid', 'iid'], right_on = ['userID', 'movie ID'])\n",
    "pred_df[['uid', 'iid',  'userName', 'userID', 'movie name', 'movie ID', 'est','rating']]"
   ]
  },
  {
   "cell_type": "code",
   "execution_count": 44,
   "metadata": {},
   "outputs": [],
   "source": [
    "anti_pre = best_algo.test(anti_set)\n",
    "pred_df = pd.DataFrame(anti_pre).merge(movies , left_on = ['iid'], right_on = ['movie ID'])\n",
    "pred_df = pd.DataFrame(pred_df).merge(users , left_on = ['uid'], right_on = ['userID'])"
   ]
  },
  {
   "cell_type": "code",
   "execution_count": 45,
   "metadata": {},
   "outputs": [
    {
     "data": {
      "text/html": [
       "<div>\n",
       "<style scoped>\n",
       "    .dataframe tbody tr th:only-of-type {\n",
       "        vertical-align: middle;\n",
       "    }\n",
       "\n",
       "    .dataframe tbody tr th {\n",
       "        vertical-align: top;\n",
       "    }\n",
       "\n",
       "    .dataframe thead th {\n",
       "        text-align: right;\n",
       "    }\n",
       "</style>\n",
       "<table border=\"1\" class=\"dataframe\">\n",
       "  <thead>\n",
       "    <tr style=\"text-align: right;\">\n",
       "      <th></th>\n",
       "      <th>uid</th>\n",
       "      <th>iid</th>\n",
       "      <th>r_ui</th>\n",
       "      <th>est</th>\n",
       "      <th>details</th>\n",
       "      <th>movie ID</th>\n",
       "      <th>movie name</th>\n",
       "      <th>userID</th>\n",
       "      <th>userName</th>\n",
       "    </tr>\n",
       "  </thead>\n",
       "  <tbody>\n",
       "    <tr>\n",
       "      <th>0</th>\n",
       "      <td>0</td>\n",
       "      <td>57</td>\n",
       "      <td>3.433969</td>\n",
       "      <td>4.379021</td>\n",
       "      <td>{'actual_k': 2, 'was_impossible': False}</td>\n",
       "      <td>57</td>\n",
       "      <td>Nine Queens</td>\n",
       "      <td>0</td>\n",
       "      <td>Vincent</td>\n",
       "    </tr>\n",
       "    <tr>\n",
       "      <th>1</th>\n",
       "      <td>0</td>\n",
       "      <td>121</td>\n",
       "      <td>3.433969</td>\n",
       "      <td>4.955357</td>\n",
       "      <td>{'actual_k': 1, 'was_impossible': False}</td>\n",
       "      <td>121</td>\n",
       "      <td>Perfume: The Story of a Murderer</td>\n",
       "      <td>0</td>\n",
       "      <td>Vincent</td>\n",
       "    </tr>\n",
       "    <tr>\n",
       "      <th>2</th>\n",
       "      <td>0</td>\n",
       "      <td>147</td>\n",
       "      <td>3.433969</td>\n",
       "      <td>2.582341</td>\n",
       "      <td>{'actual_k': 2, 'was_impossible': False}</td>\n",
       "      <td>147</td>\n",
       "      <td>The Lovely Bones</td>\n",
       "      <td>0</td>\n",
       "      <td>Vincent</td>\n",
       "    </tr>\n",
       "    <tr>\n",
       "      <th>3</th>\n",
       "      <td>0</td>\n",
       "      <td>163</td>\n",
       "      <td>3.433969</td>\n",
       "      <td>4.186474</td>\n",
       "      <td>{'actual_k': 2, 'was_impossible': False}</td>\n",
       "      <td>163</td>\n",
       "      <td>Ordinary People</td>\n",
       "      <td>0</td>\n",
       "      <td>Vincent</td>\n",
       "    </tr>\n",
       "    <tr>\n",
       "      <th>4</th>\n",
       "      <td>0</td>\n",
       "      <td>168</td>\n",
       "      <td>3.433969</td>\n",
       "      <td>4.701389</td>\n",
       "      <td>{'actual_k': 1, 'was_impossible': False}</td>\n",
       "      <td>168</td>\n",
       "      <td>Van Wilder: Party Liaison</td>\n",
       "      <td>0</td>\n",
       "      <td>Vincent</td>\n",
       "    </tr>\n",
       "  </tbody>\n",
       "</table>\n",
       "</div>"
      ],
      "text/plain": [
       "   uid  iid      r_ui       est                                   details  \\\n",
       "0    0   57  3.433969  4.379021  {'actual_k': 2, 'was_impossible': False}   \n",
       "1    0  121  3.433969  4.955357  {'actual_k': 1, 'was_impossible': False}   \n",
       "2    0  147  3.433969  2.582341  {'actual_k': 2, 'was_impossible': False}   \n",
       "3    0  163  3.433969  4.186474  {'actual_k': 2, 'was_impossible': False}   \n",
       "4    0  168  3.433969  4.701389  {'actual_k': 1, 'was_impossible': False}   \n",
       "\n",
       "   movie ID                        movie name  userID userName  \n",
       "0        57                       Nine Queens       0  Vincent  \n",
       "1       121  Perfume: The Story of a Murderer       0  Vincent  \n",
       "2       147                  The Lovely Bones       0  Vincent  \n",
       "3       163                   Ordinary People       0  Vincent  \n",
       "4       168         Van Wilder: Party Liaison       0  Vincent  "
      ]
     },
     "execution_count": 45,
     "metadata": {},
     "output_type": "execute_result"
    }
   ],
   "source": [
    "pred_df.head()"
   ]
  },
  {
   "cell_type": "markdown",
   "metadata": {},
   "source": [
    "# finding Recommendations for a user"
   ]
  },
  {
   "cell_type": "markdown",
   "metadata": {},
   "source": [
    "# Movies prediction for Vincent"
   ]
  },
  {
   "cell_type": "code",
   "execution_count": 46,
   "metadata": {
    "scrolled": true
   },
   "outputs": [],
   "source": [
    "Vincent = pred_df[(pred_df['est']>3.0)&(pred_df['userID']==0)].sort_values(by='est', ascending=False).iloc[:5]\n"
   ]
  },
  {
   "cell_type": "code",
   "execution_count": 47,
   "metadata": {},
   "outputs": [],
   "source": [
    "Vincent = Vincent[ ~Vincent['movie name'].isin(list(user_reviews[user_reviews.userID == 0].any(0)[user_reviews[user_reviews.userID == 0].any(0).values == True].keys()[2:-1]))]\n"
   ]
  },
  {
   "cell_type": "code",
   "execution_count": 48,
   "metadata": {},
   "outputs": [
    {
     "data": {
      "text/plain": [
       "965             Twisted\n",
       "972         The Tempest\n",
       "955              Krrish\n",
       "959    The Longest Yard\n",
       "324    Four Christmases\n",
       "Name: movie name, dtype: object"
      ]
     },
     "execution_count": 48,
     "metadata": {},
     "output_type": "execute_result"
    }
   ],
   "source": [
    "Vincent[(Vincent['est']>3.0)&(Vincent['userID']==0)].sort_values(by='est', ascending=False).iloc[:5]['movie name']\n"
   ]
  },
  {
   "cell_type": "code",
   "execution_count": 49,
   "metadata": {},
   "outputs": [
    {
     "data": {
      "text/plain": [
       "965             Twisted\n",
       "972         The Tempest\n",
       "955              Krrish\n",
       "959    The Longest Yard\n",
       "324    Four Christmases\n",
       "Name: movie name, dtype: object"
      ]
     },
     "execution_count": 49,
     "metadata": {},
     "output_type": "execute_result"
    }
   ],
   "source": [
    "Vincent[(Vincent['est']>3.0)&(Vincent['userID']==0)].sort_values(by='est', ascending=False).iloc[:5]['movie name']\n"
   ]
  },
  {
   "cell_type": "markdown",
   "metadata": {},
   "source": [
    "# Movies prediction for Edgar"
   ]
  },
  {
   "cell_type": "code",
   "execution_count": 50,
   "metadata": {
    "scrolled": true
   },
   "outputs": [],
   "source": [
    "Edgar = pred_df[(pred_df['est']>3.0)&(pred_df['userID']==1)].sort_values(by='est', ascending=False).iloc[:5]\n"
   ]
  },
  {
   "cell_type": "code",
   "execution_count": 51,
   "metadata": {},
   "outputs": [],
   "source": [
    "Edgar = Edgar[ ~Edgar['movie name'].isin(list(user_reviews[user_reviews.userID == 0].any(0)[user_reviews[user_reviews.userID == 0].any(0).values == True].keys()[2:-1]))]\n"
   ]
  },
  {
   "cell_type": "code",
   "execution_count": null,
   "metadata": {},
   "outputs": [],
   "source": []
  },
  {
   "cell_type": "code",
   "execution_count": 52,
   "metadata": {},
   "outputs": [
    {
     "data": {
      "text/plain": [
       "1181636                              Dutch Kills\n",
       "1182640                            Morning Glory\n",
       "1182419    How to Lose Friends & Alienate People\n",
       "1181287                                  Getaway\n",
       "1181059                      Blast from the Past\n",
       "Name: movie name, dtype: object"
      ]
     },
     "execution_count": 52,
     "metadata": {},
     "output_type": "execute_result"
    }
   ],
   "source": [
    "pred_df[(pred_df['est']>3.0)&(pred_df['userID']==1)].sort_values(by='est', ascending=False).iloc[:5]['movie name']\n"
   ]
  },
  {
   "cell_type": "code",
   "execution_count": 53,
   "metadata": {},
   "outputs": [
    {
     "data": {
      "text/plain": [
       "1181636                              Dutch Kills\n",
       "1182640                            Morning Glory\n",
       "1182419    How to Lose Friends & Alienate People\n",
       "1181287                                  Getaway\n",
       "1181059                      Blast from the Past\n",
       "Name: movie name, dtype: object"
      ]
     },
     "execution_count": 53,
     "metadata": {},
     "output_type": "execute_result"
    }
   ],
   "source": [
    "Edgar[(Edgar['est']>3.0)&(Edgar['userID']==1)].sort_values(by='est', ascending=False).iloc[:5]['movie name']\n"
   ]
  },
  {
   "cell_type": "markdown",
   "metadata": {},
   "source": [
    "# Movies prediction for Addilyn"
   ]
  },
  {
   "cell_type": "code",
   "execution_count": null,
   "metadata": {},
   "outputs": [],
   "source": [
    "pred_df[(pred_df['est']>3.0)&(pred_df['userID']==2)].sort_values(by='est', ascending=False).iloc[:5]\n"
   ]
  },
  {
   "cell_type": "code",
   "execution_count": null,
   "metadata": {},
   "outputs": [],
   "source": [
    "pred_df[(pred_df['est']>3.0)&(pred_df['userID']==2)].sort_values(by='est', ascending=False).iloc[:5]['movie name']\n"
   ]
  },
  {
   "cell_type": "markdown",
   "metadata": {},
   "source": [
    "# Movies prediction for Marlee"
   ]
  },
  {
   "cell_type": "code",
   "execution_count": null,
   "metadata": {},
   "outputs": [],
   "source": [
    "pred_df[(pred_df['est']>3.0)&(pred_df['userID']==3)].sort_values(by='est', ascending=False).iloc[:5]\n"
   ]
  },
  {
   "cell_type": "code",
   "execution_count": null,
   "metadata": {},
   "outputs": [],
   "source": [
    "pred_df[(pred_df['est']>3.0)&(pred_df['userID']==3)].sort_values(by='est', ascending=False).iloc[:5]['movie name']\n"
   ]
  },
  {
   "cell_type": "markdown",
   "metadata": {},
   "source": [
    "# Movies prediction for Javier"
   ]
  },
  {
   "cell_type": "code",
   "execution_count": null,
   "metadata": {},
   "outputs": [],
   "source": [
    "pred_df[(pred_df['est']>3.0)&(pred_df['userID']==4)].sort_values(by='est', ascending=False).iloc[:5]\n"
   ]
  },
  {
   "cell_type": "code",
   "execution_count": null,
   "metadata": {},
   "outputs": [],
   "source": [
    "pred_df[(pred_df['est']>3.0)&(pred_df['userID']==4)].sort_values(by='est', ascending=False).iloc[:5]['movie name']\n"
   ]
  }
 ],
 "metadata": {
  "kernelspec": {
   "display_name": "Python 3 (ipykernel)",
   "language": "python",
   "name": "python3"
  },
  "language_info": {
   "codemirror_mode": {
    "name": "ipython",
    "version": 3
   },
   "file_extension": ".py",
   "mimetype": "text/x-python",
   "name": "python",
   "nbconvert_exporter": "python",
   "pygments_lexer": "ipython3",
   "version": "3.9.12"
  }
 },
 "nbformat": 4,
 "nbformat_minor": 2
}
